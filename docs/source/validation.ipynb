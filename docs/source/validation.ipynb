{
 "cells": [
  {
   "cell_type": "markdown",
   "metadata": {
    "id": "njqZ9ZjiZhOi"
   },
   "source": [
    "# Validation\n",
    "\n",
    "This notebook contains examples of some of the simulations that have been used to validate Disimpy's functionality by comparing the simulated signals against analytical solutions. Here, we focus on the monoexponential signal decay in the case of free diffusion and on restricted diffusion in infinite cylinders perpendicular to the diffusion encoding gradient direction. The cylinder simulation is performed with short and long gradient pulses."
   ]
  },
  {
   "cell_type": "code",
   "execution_count": 1,
   "metadata": {
    "id": "URtKY7GhZYoA"
   },
   "outputs": [],
   "source": [
    "# Import the required packages and modules\n",
    "\n",
    "import numpy as np\n",
    "import matplotlib.pyplot as plt\n",
    "\n",
    "from disimpy import gradients, simulations\n",
    "from disimpy.settings import GAMMA"
   ]
  },
  {
   "cell_type": "code",
   "execution_count": 2,
   "metadata": {
    "id": "Wr1C78aBZi7c"
   },
   "outputs": [],
   "source": [
    "# Define the simulation parameters\n",
    "\n",
    "n_s = int(1e6)  # Number of random walkers\n",
    "n_t = int(1e4)  # Number of time points\n",
    "diffusivity = 2e-9  # In SI units (m^2/s)"
   ]
  },
  {
   "cell_type": "markdown",
   "metadata": {
    "id": "chrnW_CtZjTj"
   },
   "source": [
    "## Free diffusion"
   ]
  },
  {
   "cell_type": "code",
   "execution_count": 3,
   "metadata": {
    "colab": {
     "base_uri": "https://localhost:8080/",
     "height": 375
    },
    "id": "xDuPyAbuZkN-",
    "outputId": "e1c08754-fe6c-4c95-a6d2-bf97cfc27f43"
   },
   "outputs": [
    {
     "name": "stdout",
     "output_type": "stream",
     "text": [
      "Starting simulation\n",
      "Step length = 2.4519429128950357e-07 m\n",
      "Step duration = 5.010020040080161e-06 s\n",
      "Number of spins = 1000000\n",
      "Number of steps = 10000\n",
      "Simulation finished.\n"
     ]
    },
    {
     "data": {
      "image/png": "[encoded data removed]",
      "text/plain": [
       "<Figure size 504x288 with 1 Axes>"
      ]
     },
     "metadata": {
      "needs_background": "light"
     },
     "output_type": "display_data"
    }
   ],
   "source": [
    "# Create a Stejskal-Tanner gradient array with ∆ = 40 ms and δ = 10 ms\n",
    "\n",
    "T = 50e-3\n",
    "gradient = np.zeros((1, 500, 3))\n",
    "gradient[0, 1:100, 0] = 1\n",
    "gradient[0, -100:-1, 0] = -1\n",
    "bs = np.linspace(1, 3e9, 100)\n",
    "gradient = np.concatenate([gradient for _ in bs], axis=0)\n",
    "dt = T / (gradient.shape[1] - 1)\n",
    "gradient, dt = gradients.interpolate_gradient(gradient, dt, n_t)\n",
    "gradient = gradients.set_b(gradient, dt, bs)\n",
    "\n",
    "\n",
    "# Run the simulation\n",
    "\n",
    "substrate = {'type' : 'free'}\n",
    "signals = simulations.simulation(n_s, diffusivity, gradient, dt, substrate)\n",
    "\n",
    "\n",
    "# Plot the results\n",
    "\n",
    "fig, ax = plt.subplots(1, figsize=(7, 4))\n",
    "ax.plot(bs, np.exp(-bs * diffusivity), color='tab:orange')\n",
    "ax.scatter(bs, signals / n_s, s=10, marker='o')\n",
    "ax.legend(['Analytical signal', 'Simulated signal'])\n",
    "ax.set_xlabel('b (ms/μm$^2$)')\n",
    "ax.set_ylabel('S/S$_0$')\n",
    "ax.set_yscale('log')\n",
    "plt.show()"
   ]
  },
  {
   "cell_type": "markdown",
   "metadata": {
    "id": "IDKCFF17Zlvl"
   },
   "source": [
    "## Restricted diffusion in an infinte cylinder"
   ]
  },
  {
   "cell_type": "code",
   "execution_count": 12,
   "metadata": {
    "colab": {
     "base_uri": "https://localhost:8080/",
     "height": 381
    },
    "id": "-Zr5LU8_Zopl",
    "outputId": "c4caf13a-ca32-4e75-8037-e6c895f8507e"
   },
   "outputs": [
    {
     "name": "stdout",
     "output_type": "stream",
     "text": [
      "Starting simulation\n",
      "Step length = 7.754096504510382e-07 m\n",
      "Step duration = 5.0105010501050105e-05 s\n",
      "Number of spins = 1000000\n",
      "Number of steps = 10000\n",
      "Simulation finished.\n"
     ]
    },
    {
     "data": {
      "image/png": "[encoded data removed]",
      "text/plain": [
       "<Figure size 504x288 with 1 Axes>"
      ]
     },
     "metadata": {
      "needs_background": "light"
     },
     "output_type": "display_data"
    }
   ],
   "source": [
    "# Create a Stejskal-Tanner gradient array with ∆ = 0.5 s and δ = 1 ms\n",
    "\n",
    "T = 501e-3\n",
    "gradient = np.zeros((1, n_t, 3))\n",
    "gradient[0, 1:20, 0] = 1\n",
    "gradient[0, -20:-1, 0] = -1\n",
    "dt = T / (gradient.shape[1] - 1)\n",
    "bs = np.linspace(1, 1e11, 250)\n",
    "gradient = np.concatenate([gradient for _ in bs], axis=0)\n",
    "gradient = gradients.set_b(gradient, dt, bs)\n",
    "q = gradients.calc_q(gradient, dt)\n",
    "qs = np.max(np.linalg.norm(q, axis=2), axis=1)\n",
    "\n",
    "\n",
    "# Run the simulation\n",
    "\n",
    "radius = 10e-6\n",
    "substrate = {'type' : 'cylinder',\n",
    "             'orientation' : np.array([0, 0, 1.0]),\n",
    "             'radius' : radius}\n",
    "signals = simulations.simulation(n_s, diffusivity, gradient, dt, substrate)\n",
    "\n",
    "\n",
    "# Plot the results and the analytical solution. Please see the paper by Avram\n",
    "# et al. for details: https://doi.org/10.1002/nbm.1277\n",
    "\n",
    "fig, ax = plt.subplots(1, figsize=(7, 4))\n",
    "ax.scatter(1e-6 * qs, signals / n_s, s=10, marker='o')\n",
    "minimum = 1e-6 * .61 * 2 * np.pi / radius\n",
    "ax.plot([minimum, minimum], [0, 1], ls='--', lw=2, color='tab:orange')\n",
    "ax.legend(['Analytical minimum', 'Simulated signal'])\n",
    "ax.set_xlabel('q (μm$^{-1}$)')\n",
    "ax.set_ylabel('S/S$_0$')\n",
    "ax.set_yscale('log')\n",
    "ax.set_ylim([1e-4, 1])\n",
    "ax.set_xlim([0, max(1e-6 * qs)])\n",
    "plt.show()"
   ]
  },
  {
   "cell_type": "code",
   "execution_count": 7,
   "metadata": {},
   "outputs": [
    {
     "name": "stdout",
     "output_type": "stream",
     "text": [
      "Starting simulation\n",
      "Step length = 3.481553119113957e-07 m\n",
      "Step duration = 1.0101010101010101e-05 s\n",
      "Number of spins = 1000000\n",
      "Number of steps = 10000\n",
      "Simulation finished.\n"
     ]
    },
    {
     "data": {
      "image/png": "[encoded data removed]",
      "text/plain": [
       "<Figure size 504x288 with 1 Axes>"
      ]
     },
     "metadata": {
      "needs_background": "light"
     },
     "output_type": "display_data"
    }
   ],
   "source": [
    "# Create a Stejskal-Tanner gradient array with ∆ = δ = 50 ms\n",
    "\n",
    "T = 100e-3\n",
    "gradient = np.zeros((1, 100, 3))\n",
    "gradient[0, 1:50, 0] = 1\n",
    "gradient[0, -50:-1, 0] = -1\n",
    "bs = np.linspace(1, 3e9, 100)\n",
    "gradient = np.concatenate([gradient for _ in bs], axis=0)\n",
    "dt = T / (gradient.shape[1] - 1)\n",
    "gradient, dt = gradients.interpolate_gradient(gradient, dt, n_t)\n",
    "gradient = gradients.set_b(gradient, dt, bs)\n",
    "\n",
    "\n",
    "# Calculate the analytical signal prediction using Equation 8 in the\n",
    "# paper by Assaf et al.: https://doi.org/10.1002/mrm.20274\n",
    "\n",
    "radius = 7.5e-6\n",
    "analytical_expression = np.exp(\n",
    "    - (radius**4 * GAMMA**2 * np.max(gradient, axis=(1, 2))**2 / diffusivity)\n",
    "    * (7/96) * (T - 99/112 * radius**2 / diffusivity)) \n",
    "\n",
    "\n",
    "# Run the simulation\n",
    "\n",
    "substrate = {'type' : 'cylinder',\n",
    "             'orientation' : np.array([0, 0, 1.0]),\n",
    "             'radius' : radius}\n",
    "signals = simulations.simulation(n_s, diffusivity, gradient, dt, substrate)\n",
    "\n",
    "\n",
    "# Plot the results\n",
    "\n",
    "fig, ax = plt.subplots(1, figsize=(7, 4))\n",
    "ax.plot(bs, analytical_expression, color='tab:orange')\n",
    "ax.scatter(bs, signals / n_s, s=10, marker='o')\n",
    "ax.legend(['Analytical signal', 'Simulated signal'])\n",
    "ax.set_xlabel('b (ms/μm$^2$)')\n",
    "ax.set_ylabel('S/S$_0$')\n",
    "ax.set_yscale('log')\n",
    "plt.show()"
   ]
  }
 ],
 "metadata": {
  "accelerator": "GPU",
  "colab": {
   "collapsed_sections": [],
   "name": "validation.ipynb",
   "provenance": []
  },
  "kernelspec": {
   "display_name": "Python 3",
   "language": "python",
   "name": "python3"
  },
  "language_info": {
   "codemirror_mode": {
    "name": "ipython",
    "version": 3
   },
   "file_extension": ".py",
   "mimetype": "text/x-python",
   "name": "python",
   "nbconvert_exporter": "python",
   "pygments_lexer": "ipython3",
   "version": "3.7.6"
  }
 },
 "nbformat": 4,
 "nbformat_minor": 4
}
