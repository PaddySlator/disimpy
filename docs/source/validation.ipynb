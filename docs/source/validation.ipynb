{
 "cells": [
  {
   "cell_type": "markdown",
   "metadata": {
    "id": "njqZ9ZjiZhOi"
   },
   "source": [
    "# Validation\n",
    "\n",
    "This notebook contains examples of the simulations that have been used to validate Disimpy's functionality by comparing the simulated signals against analytical solutions. Here, we focus on the monoexponential signal decay in the case of free diffusion and on the signal minimum in the case of restricted diffusion inside cylinders perpendicular to the diffusion encoding gradient."
   ]
  },
  {
   "cell_type": "code",
   "execution_count": 2,
   "metadata": {
    "id": "URtKY7GhZYoA"
   },
   "outputs": [],
   "source": [
    "# Import the required packages and modules\n",
    "\n",
    "import numpy as np\n",
    "import matplotlib.pyplot as plt\n",
    "\n",
    "from disimpy import gradients, simulations"
   ]
  },
  {
   "cell_type": "code",
   "execution_count": 6,
   "metadata": {
    "id": "Wr1C78aBZi7c"
   },
   "outputs": [],
   "source": [
    "# Define the simulation parameters\n",
    "\n",
    "n_s = int(1e6)  # Number of random walkers\n",
    "n_t = int(1e4)  # Number of time points in the simulation\n",
    "diffusivity = 2e-9  # In SI units (m^2/s)"
   ]
  },
  {
   "cell_type": "markdown",
   "metadata": {
    "id": "chrnW_CtZjTj"
   },
   "source": [
    "## Free diffusion"
   ]
  },
  {
   "cell_type": "code",
   "execution_count": 7,
   "metadata": {
    "colab": {
     "base_uri": "https://localhost:8080/",
     "height": 375
    },
    "id": "xDuPyAbuZkN-",
    "outputId": "e1c08754-fe6c-4c95-a6d2-bf97cfc27f43"
   },
   "outputs": [
    {
     "name": "stdout",
     "output_type": "stream",
     "text": [
      "Starting simulation.\n",
      "Step length = 2.4519429128950357e-07\n",
      "Number of spins = 1000000\n",
      "Number of steps = 10000\n",
      "Simulation finished.\n"
     ]
    },
    {
     "data": {
      "image/png": "[encoded data removed]",
      "text/plain": [
       "<Figure size 504x288 with 1 Axes>"
      ]
     },
     "metadata": {
      "needs_background": "light",
      "tags": []
     },
     "output_type": "display_data"
    }
   ],
   "source": [
    "# Create a Stejskal-Tanner gradient array with ∆ = 40 ms and δ = 10 ms\n",
    "\n",
    "T = 50e-3\n",
    "gradient = np.zeros((1, 500, 3))\n",
    "gradient[0, 1:100, 0] = 1\n",
    "gradient[0, -100:-1, 0] = -1\n",
    "bs = np.linspace(1, 3e9, 100)\n",
    "gradient = np.concatenate([gradient for _ in bs], axis=0)\n",
    "dt = T / (gradient.shape[1] - 1)\n",
    "gradient, dt = gradients.interpolate_gradient(gradient, dt, n_t)\n",
    "gradient = gradients.set_b(gradient, dt, bs)\n",
    "\n",
    "\n",
    "# Run the simulation\n",
    "\n",
    "substrate = {'type' : 'free'}\n",
    "signals = simulations.simulation(n_s, diffusivity, gradient, dt, substrate)\n",
    "\n",
    "\n",
    "# Plot the results and the analytical solution\n",
    "\n",
    "fig, ax = plt.subplots(1, figsize=(7, 4))\n",
    "ax.plot(bs, np.exp(-bs * diffusivity), color='tab:orange')\n",
    "ax.scatter(bs, signals / n_s, s=10, marker='o')\n",
    "ax.legend(['Analytically calculated signal', 'Simulated signal'])\n",
    "ax.set_xlabel('b (ms/μm$^2$)')\n",
    "ax.set_ylabel('S/S$_0$')\n",
    "ax.set_yscale('log')\n",
    "plt.show()"
   ]
  },
  {
   "cell_type": "markdown",
   "metadata": {
    "id": "IDKCFF17Zlvl"
   },
   "source": [
    "## Restricted diffusion in cylinders"
   ]
  },
  {
   "cell_type": "code",
   "execution_count": 9,
   "metadata": {
    "colab": {
     "base_uri": "https://localhost:8080/",
     "height": 381
    },
    "id": "-Zr5LU8_Zopl",
    "outputId": "c4caf13a-ca32-4e75-8037-e6c895f8507e"
   },
   "outputs": [
    {
     "name": "stdout",
     "output_type": "stream",
     "text": [
      "Starting simulation.\n",
      "Step length = 7.754096504510382e-07\n",
      "Number of spins = 1000000\n",
      "Number of steps = 10000\n",
      "Simulation finished.\n"
     ]
    },
    {
     "data": {
      "image/png": "[encoded data removed]",
      "text/plain": [
       "<Figure size 504x288 with 1 Axes>"
      ]
     },
     "metadata": {
      "needs_background": "light",
      "tags": []
     },
     "output_type": "display_data"
    }
   ],
   "source": [
    "# Create a Stejskal-Tanner gradient array with ∆ = 0.5 s and δ = 1 ms\n",
    "\n",
    "T = 501e-3\n",
    "gradient = np.zeros((1, n_t, 3))\n",
    "gradient[0, 1:20, 0] = 1\n",
    "gradient[0, -20:-1, 0] = -1\n",
    "bs = np.linspace(1, 1e11, 100)\n",
    "dt = T / (gradient.shape[1] - 1)\n",
    "bs = np.linspace(1, 1e11, 100)\n",
    "gradient = np.concatenate([gradient for _ in bs], axis=0)\n",
    "gradient = gradients.set_b(gradient, dt, bs)\n",
    "q = gradients.calc_q(gradient, dt)\n",
    "qs = np.max(np.linalg.norm(q, axis=2), axis=1)\n",
    "\n",
    "\n",
    "# Run the simulation\n",
    "\n",
    "radius = 10e-6\n",
    "substrate = {'type' : 'cylinder',\n",
    "             'orientation' : np.array([0, 0, 1.0]),\n",
    "             'radius' : radius}\n",
    "signals = simulations.simulation(n_s, diffusivity, gradient, dt, substrate)\n",
    "\n",
    "\n",
    "# Plot the results and the analytical solution\n",
    "\n",
    "fig, ax = plt.subplots(1, figsize=(7, 4))\n",
    "ax.scatter(1e-6 * qs, signals / n_s, s=10, marker='o')\n",
    "minimum = 1e-6 * .61 * 2 * np.pi / radius\n",
    "ax.plot([minimum, minimum], [0, 1], ls='--', lw=2, color='tab:orange')\n",
    "ax.legend(['Analytical minimum', 'Simulated signal'])\n",
    "ax.set_xlabel('q (μm$^{-1}$)')\n",
    "ax.set_ylabel('E')\n",
    "ax.set_yscale('log')\n",
    "ax.set_ylim([1e-4, 1])\n",
    "ax.set_xlim([0, max(1e-6 * qs)])\n",
    "plt.show()"
   ]
  }
 ],
 "metadata": {
  "accelerator": "GPU",
  "colab": {
   "collapsed_sections": [],
   "name": "validation.ipynb",
   "provenance": []
  },
  "kernelspec": {
   "display_name": "Python 3",
   "language": "python",
   "name": "python3"
  },
  "language_info": {
   "codemirror_mode": {
    "name": "ipython",
    "version": 3
   },
   "file_extension": ".py",
   "mimetype": "text/x-python",
   "name": "python",
   "nbconvert_exporter": "python",
   "pygments_lexer": "ipython3",
   "version": "3.7.3"
  }
 },
 "nbformat": 4,
 "nbformat_minor": 4
}
